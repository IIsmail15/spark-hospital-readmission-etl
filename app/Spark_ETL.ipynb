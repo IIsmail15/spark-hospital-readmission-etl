{
 "cells": [
  {
   "cell_type": "code",
   "execution_count": 1,
   "id": "64dd75f0-38c2-40ee-a2c7-b637b0e35481",
   "metadata": {},
   "outputs": [
    {
     "name": "stdout",
     "output_type": "stream",
     "text": [
      "/home/jovyan\n"
     ]
    }
   ],
   "source": [
    "import os\n",
    "%cd ..\n",
    "\n"
   ]
  },
  {
   "cell_type": "code",
   "execution_count": 2,
   "id": "b7b2db4d-9903-439f-8faa-6c390c061373",
   "metadata": {
    "scrolled": true
   },
   "outputs": [
    {
     "data": {
      "text/plain": [
       "['diabetic_data.csv', 'IDs_mapping.csv']"
      ]
     },
     "execution_count": 2,
     "metadata": {},
     "output_type": "execute_result"
    }
   ],
   "source": [
    "os.listdir()\n",
    "os.listdir(\"data\")\n"
   ]
  },
  {
   "cell_type": "code",
   "execution_count": 3,
   "id": "18243dac-48c1-494c-9fc3-836522884cda",
   "metadata": {},
   "outputs": [
    {
     "name": "stdout",
     "output_type": "stream",
     "text": [
      "Collecting pyspark\n",
      "  Downloading pyspark-3.5.5.tar.gz (317.2 MB)\n",
      "\u001b[2K     \u001b[90m━━━━━━━━━━━━━━━━━━━━━━━━━━━━━━━━━━━━━━━\u001b[0m \u001b[32m317.2/317.2 MB\u001b[0m \u001b[31m1.7 MB/s\u001b[0m eta \u001b[36m0:00:00\u001b[0m00:01\u001b[0m00:03\u001b[0m\n",
      "\u001b[?25h  Preparing metadata (setup.py) ... \u001b[?25ldone\n",
      "\u001b[?25hCollecting py4j==0.10.9.7 (from pyspark)\n",
      "  Downloading py4j-0.10.9.7-py2.py3-none-any.whl.metadata (1.5 kB)\n",
      "Downloading py4j-0.10.9.7-py2.py3-none-any.whl (200 kB)\n",
      "\u001b[2K   \u001b[90m━━━━━━━━━━━━━━━━━━━━━━━━━━━━━━━━━━━━━━━━\u001b[0m \u001b[32m200.5/200.5 kB\u001b[0m \u001b[31m3.0 MB/s\u001b[0m eta \u001b[36m0:00:00\u001b[0ma \u001b[36m0:00:01\u001b[0m\n",
      "\u001b[?25hBuilding wheels for collected packages: pyspark\n",
      "  Building wheel for pyspark (setup.py) ... \u001b[?25ldone\n",
      "\u001b[?25h  Created wheel for pyspark: filename=pyspark-3.5.5-py2.py3-none-any.whl size=317747860 sha256=f03173a78dd1eca0cf1d9ddea8385b24368b1bc879ad2c05a1e7110d90b2230d\n",
      "  Stored in directory: /home/jovyan/.cache/pip/wheels/0c/7f/b4/0e68c6d8d89d2e582e5498ad88616c16d7c19028680e9d3840\n",
      "Successfully built pyspark\n",
      "Installing collected packages: py4j, pyspark\n",
      "Successfully installed py4j-0.10.9.7 pyspark-3.5.5\n"
     ]
    }
   ],
   "source": [
    "!pip install pyspark\n"
   ]
  },
  {
   "cell_type": "code",
   "execution_count": 4,
   "id": "6a6dec57-e5da-4735-a747-dc9fe0bcec74",
   "metadata": {},
   "outputs": [
    {
     "data": {
      "text/html": [
       "\n",
       "            <div>\n",
       "                <p><b>SparkSession - in-memory</b></p>\n",
       "                \n",
       "        <div>\n",
       "            <p><b>SparkContext</b></p>\n",
       "\n",
       "            <p><a href=\"http://873addd6df58:4040\">Spark UI</a></p>\n",
       "\n",
       "            <dl>\n",
       "              <dt>Version</dt>\n",
       "                <dd><code>v3.5.0</code></dd>\n",
       "              <dt>Master</dt>\n",
       "                <dd><code>local[*]</code></dd>\n",
       "              <dt>AppName</dt>\n",
       "                <dd><code>HospitalReadmissionNotebook</code></dd>\n",
       "            </dl>\n",
       "        </div>\n",
       "        \n",
       "            </div>\n",
       "        "
      ],
      "text/plain": [
       "<pyspark.sql.session.SparkSession at 0x7f37d1d87c90>"
      ]
     },
     "execution_count": 4,
     "metadata": {},
     "output_type": "execute_result"
    }
   ],
   "source": [
    "from pyspark.sql import SparkSession\n",
    "\n",
    "# Start or get existing Spark session\n",
    "spark = SparkSession.builder \\\n",
    "    .appName(\"HospitalReadmissionNotebook\") \\\n",
    "    .getOrCreate()\n",
    "\n",
    "# Check it's alive\n",
    "spark\n",
    "\n"
   ]
  },
  {
   "cell_type": "code",
   "execution_count": 5,
   "id": "ec4057c7-7901-473b-9a10-bb287b3dba8d",
   "metadata": {},
   "outputs": [
    {
     "name": "stdout",
     "output_type": "stream",
     "text": [
      "root\n",
      " |-- encounter_id: integer (nullable = true)\n",
      " |-- patient_nbr: integer (nullable = true)\n",
      " |-- race: string (nullable = true)\n",
      " |-- gender: string (nullable = true)\n",
      " |-- age: string (nullable = true)\n",
      " |-- weight: string (nullable = true)\n",
      " |-- admission_type_id: integer (nullable = true)\n",
      " |-- discharge_disposition_id: integer (nullable = true)\n",
      " |-- admission_source_id: integer (nullable = true)\n",
      " |-- time_in_hospital: integer (nullable = true)\n",
      " |-- payer_code: string (nullable = true)\n",
      " |-- medical_specialty: string (nullable = true)\n",
      " |-- num_lab_procedures: integer (nullable = true)\n",
      " |-- num_procedures: integer (nullable = true)\n",
      " |-- num_medications: integer (nullable = true)\n",
      " |-- number_outpatient: integer (nullable = true)\n",
      " |-- number_emergency: integer (nullable = true)\n",
      " |-- number_inpatient: integer (nullable = true)\n",
      " |-- diag_1: string (nullable = true)\n",
      " |-- diag_2: string (nullable = true)\n",
      " |-- diag_3: string (nullable = true)\n",
      " |-- number_diagnoses: integer (nullable = true)\n",
      " |-- max_glu_serum: string (nullable = true)\n",
      " |-- A1Cresult: string (nullable = true)\n",
      " |-- metformin: string (nullable = true)\n",
      " |-- repaglinide: string (nullable = true)\n",
      " |-- nateglinide: string (nullable = true)\n",
      " |-- chlorpropamide: string (nullable = true)\n",
      " |-- glimepiride: string (nullable = true)\n",
      " |-- acetohexamide: string (nullable = true)\n",
      " |-- glipizide: string (nullable = true)\n",
      " |-- glyburide: string (nullable = true)\n",
      " |-- tolbutamide: string (nullable = true)\n",
      " |-- pioglitazone: string (nullable = true)\n",
      " |-- rosiglitazone: string (nullable = true)\n",
      " |-- acarbose: string (nullable = true)\n",
      " |-- miglitol: string (nullable = true)\n",
      " |-- troglitazone: string (nullable = true)\n",
      " |-- tolazamide: string (nullable = true)\n",
      " |-- examide: string (nullable = true)\n",
      " |-- citoglipton: string (nullable = true)\n",
      " |-- insulin: string (nullable = true)\n",
      " |-- glyburide-metformin: string (nullable = true)\n",
      " |-- glipizide-metformin: string (nullable = true)\n",
      " |-- glimepiride-pioglitazone: string (nullable = true)\n",
      " |-- metformin-rosiglitazone: string (nullable = true)\n",
      " |-- metformin-pioglitazone: string (nullable = true)\n",
      " |-- change: string (nullable = true)\n",
      " |-- diabetesMed: string (nullable = true)\n",
      " |-- readmitted: string (nullable = true)\n",
      "\n"
     ]
    }
   ],
   "source": [
    "df= spark.read.csv(\"data/diabetic_data.csv\", header= True, inferSchema = True) \n",
    "df.printSchema() "
   ]
  },
  {
   "cell_type": "code",
   "execution_count": 6,
   "id": "530415fa-325b-4867-b42c-26d20c630acd",
   "metadata": {},
   "outputs": [],
   "source": [
    "from pyspark.sql.functions import col,when,regexp_extract\n",
    "\n",
    "#replace all '?' with null\n",
    "df_clean= df.replace(\"?\", None)\n"
   ]
  },
  {
   "cell_type": "code",
   "execution_count": 7,
   "id": "994a0224-c9ad-488f-9498-f81a9972c724",
   "metadata": {},
   "outputs": [],
   "source": [
    "#extract numberic bin \n",
    "df_clean= df_clean.withColumn(\n",
    "    \"age_num\", regexp_extract(\"age\", r\"\\[(\\d+)\",1).cast(\"int\") \n",
    ")"
   ]
  },
  {
   "cell_type": "code",
   "execution_count": null,
   "id": "012e0724-362b-4564-960e-6b22a30107f1",
   "metadata": {},
   "outputs": [],
   "source": [
    "#Readmitted Flag binary target \n",
    "df_clean = df_clean.withColumn(\n",
    "    \"readmitted_flag\", when(col(\"readmitted\") == \"<30\",1).otherwise(0)\n",
    ")\n"
   ]
  },
  {
   "cell_type": "code",
   "execution_count": 8,
   "id": "d2a3c18a-ce06-4964-ae62-2d7ff66b21ff",
   "metadata": {},
   "outputs": [],
   "source": [
    "#a loop to transform the medication into columns to simpler yes/no \n",
    "\n",
    "med_cols = [\"insulin\",\"metformin\",\"glipizide\",\"glyburide\"]\n",
    "\n",
    "for med in med_cols: \n",
    "    df_clean = df_clean.withColumn(f\"{med}_used\",\n",
    "         when(col(med).isin(\"steady\",\"up\",\"Down\"),1).otherwise(0)\n",
    "                                 )\n",
    "\n",
    "    \n",
    "                                  \n",
    "\n"
   ]
  },
  {
   "cell_type": "code",
   "execution_count": 9,
   "id": "3db3e422-582f-4c74-995d-27654d4d473e",
   "metadata": {},
   "outputs": [],
   "source": [
    "numeric_fields = [\n",
    "    \"time_in_hospital\", \"num_lab_procedures\", \"num_procedures\",\n",
    "    \"num_medications\", \"number_outpatient\", \"number_emergency\",\n",
    "    \"number_inpatient\", \"number_diagnoses\"\n",
    "]\n",
    "\n",
    "for colname in numeric_fields:\n",
    "    df_clean = df_clean.withColumn(colname, col(colname).cast(\"int\"))\n"
   ]
  },
  {
   "cell_type": "code",
   "execution_count": 10,
   "id": "adb9380b-a928-4961-b3d5-0cd38a65d983",
   "metadata": {},
   "outputs": [],
   "source": [
    "df_clean.write.mode(\"overwrite\").parquet(\"output/patients_cleaned1.parquet\")\n"
   ]
  },
  {
   "cell_type": "code",
   "execution_count": null,
   "id": "9ce56c54-fb2a-4795-a29c-d9fe7f8dc530",
   "metadata": {},
   "outputs": [],
   "source": []
  }
 ],
 "metadata": {
  "kernelspec": {
   "display_name": "Python 3 (ipykernel)",
   "language": "python",
   "name": "python3"
  },
  "language_info": {
   "codemirror_mode": {
    "name": "ipython",
    "version": 3
   },
   "file_extension": ".py",
   "mimetype": "text/x-python",
   "name": "python",
   "nbconvert_exporter": "python",
   "pygments_lexer": "ipython3",
   "version": "3.11.6"
  }
 },
 "nbformat": 4,
 "nbformat_minor": 5
}
